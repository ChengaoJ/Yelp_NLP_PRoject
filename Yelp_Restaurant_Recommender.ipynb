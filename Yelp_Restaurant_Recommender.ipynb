{
 "cells": [
  {
   "cell_type": "markdown",
   "metadata": {},
   "source": [
    "# Yelp Data Challenge - Restaurant Recommender\n",
    "Here I build a restaurant recommender system based on the yelp data from the past two years. I first clean the data by selecting the relevent columns. Then create the utility matrix. Then I build the Item-Item Collaborative Filtering Recommender, Matrix Factorization recommender (NMF)."
   ]
  },
  {
   "cell_type": "code",
   "execution_count": 6,
   "metadata": {},
   "outputs": [],
   "source": [
    "import pandas as pd\n",
    "import numpy as np\n",
    "import matplotlib.pyplot as plt\n",
    "% matplotlib inline\n",
    "plt.style.use(\"ggplot\")"
   ]
  },
  {
   "cell_type": "code",
   "execution_count": 7,
   "metadata": {},
   "outputs": [],
   "source": [
    "df = pd.read_csv('last_2_years_restaurant_reviews.csv')"
   ]
  },
  {
   "cell_type": "code",
   "execution_count": 8,
   "metadata": {},
   "outputs": [
    {
     "data": {
      "text/html": [
       "<div>\n",
       "<style scoped>\n",
       "    .dataframe tbody tr th:only-of-type {\n",
       "        vertical-align: middle;\n",
       "    }\n",
       "\n",
       "    .dataframe tbody tr th {\n",
       "        vertical-align: top;\n",
       "    }\n",
       "\n",
       "    .dataframe thead th {\n",
       "        text-align: right;\n",
       "    }\n",
       "</style>\n",
       "<table border=\"1\" class=\"dataframe\">\n",
       "  <thead>\n",
       "    <tr style=\"text-align: right;\">\n",
       "      <th></th>\n",
       "      <th>business_id</th>\n",
       "      <th>name</th>\n",
       "      <th>categories</th>\n",
       "      <th>avg_stars</th>\n",
       "      <th>review_id</th>\n",
       "      <th>user_id</th>\n",
       "      <th>stars</th>\n",
       "      <th>date</th>\n",
       "      <th>text</th>\n",
       "      <th>useful</th>\n",
       "      <th>funny</th>\n",
       "      <th>cool</th>\n",
       "    </tr>\n",
       "  </thead>\n",
       "  <tbody>\n",
       "    <tr>\n",
       "      <th>0</th>\n",
       "      <td>--9e1ONYQuAa-CB_Rrw7Tw</td>\n",
       "      <td>\"Delmonico Steakhouse\"</td>\n",
       "      <td>Cajun/Creole;Steakhouses;Restaurants</td>\n",
       "      <td>4.0</td>\n",
       "      <td>6SgvNWJltnZhW7duJgZ42w</td>\n",
       "      <td>oFyOUOeGTRZhFPF9uTqrTQ</td>\n",
       "      <td>5</td>\n",
       "      <td>2016-03-31</td>\n",
       "      <td>This is mine and my fiancé's favorite steakhou...</td>\n",
       "      <td>0</td>\n",
       "      <td>0</td>\n",
       "      <td>0</td>\n",
       "    </tr>\n",
       "    <tr>\n",
       "      <th>1</th>\n",
       "      <td>--9e1ONYQuAa-CB_Rrw7Tw</td>\n",
       "      <td>\"Delmonico Steakhouse\"</td>\n",
       "      <td>Cajun/Creole;Steakhouses;Restaurants</td>\n",
       "      <td>4.0</td>\n",
       "      <td>UxFpgng8dPMWOj99653k5Q</td>\n",
       "      <td>aVOGlN9fZ-BXcbtj6dbf0g</td>\n",
       "      <td>5</td>\n",
       "      <td>2016-02-10</td>\n",
       "      <td>Truly Fantastic!  Best Steak ever. Service was...</td>\n",
       "      <td>0</td>\n",
       "      <td>0</td>\n",
       "      <td>0</td>\n",
       "    </tr>\n",
       "  </tbody>\n",
       "</table>\n",
       "</div>"
      ],
      "text/plain": [
       "              business_id                    name  \\\n",
       "0  --9e1ONYQuAa-CB_Rrw7Tw  \"Delmonico Steakhouse\"   \n",
       "1  --9e1ONYQuAa-CB_Rrw7Tw  \"Delmonico Steakhouse\"   \n",
       "\n",
       "                             categories  avg_stars               review_id  \\\n",
       "0  Cajun/Creole;Steakhouses;Restaurants        4.0  6SgvNWJltnZhW7duJgZ42w   \n",
       "1  Cajun/Creole;Steakhouses;Restaurants        4.0  UxFpgng8dPMWOj99653k5Q   \n",
       "\n",
       "                  user_id  stars        date  \\\n",
       "0  oFyOUOeGTRZhFPF9uTqrTQ      5  2016-03-31   \n",
       "1  aVOGlN9fZ-BXcbtj6dbf0g      5  2016-02-10   \n",
       "\n",
       "                                                text  useful  funny  cool  \n",
       "0  This is mine and my fiancé's favorite steakhou...       0      0     0  \n",
       "1  Truly Fantastic!  Best Steak ever. Service was...       0      0     0  "
      ]
     },
     "execution_count": 8,
     "metadata": {},
     "output_type": "execute_result"
    }
   ],
   "source": [
    "df.head(2)"
   ]
  },
  {
   "cell_type": "markdown",
   "metadata": {},
   "source": [
    "## Data Cleaning"
   ]
  },
  {
   "cell_type": "markdown",
   "metadata": {},
   "source": [
    "#### Select Relevent columns"
   ]
  },
  {
   "cell_type": "code",
   "execution_count": 9,
   "metadata": {},
   "outputs": [
    {
     "data": {
      "text/html": [
       "<div>\n",
       "<style scoped>\n",
       "    .dataframe tbody tr th:only-of-type {\n",
       "        vertical-align: middle;\n",
       "    }\n",
       "\n",
       "    .dataframe tbody tr th {\n",
       "        vertical-align: top;\n",
       "    }\n",
       "\n",
       "    .dataframe thead th {\n",
       "        text-align: right;\n",
       "    }\n",
       "</style>\n",
       "<table border=\"1\" class=\"dataframe\">\n",
       "  <thead>\n",
       "    <tr style=\"text-align: right;\">\n",
       "      <th></th>\n",
       "      <th>business_id</th>\n",
       "      <th>user_id</th>\n",
       "      <th>stars</th>\n",
       "    </tr>\n",
       "  </thead>\n",
       "  <tbody>\n",
       "    <tr>\n",
       "      <th>0</th>\n",
       "      <td>--9e1ONYQuAa-CB_Rrw7Tw</td>\n",
       "      <td>oFyOUOeGTRZhFPF9uTqrTQ</td>\n",
       "      <td>5</td>\n",
       "    </tr>\n",
       "    <tr>\n",
       "      <th>1</th>\n",
       "      <td>--9e1ONYQuAa-CB_Rrw7Tw</td>\n",
       "      <td>aVOGlN9fZ-BXcbtj6dbf0g</td>\n",
       "      <td>5</td>\n",
       "    </tr>\n",
       "    <tr>\n",
       "      <th>2</th>\n",
       "      <td>--9e1ONYQuAa-CB_Rrw7Tw</td>\n",
       "      <td>KC8H7qTZVPIEnanw9fG43g</td>\n",
       "      <td>5</td>\n",
       "    </tr>\n",
       "  </tbody>\n",
       "</table>\n",
       "</div>"
      ],
      "text/plain": [
       "              business_id                 user_id  stars\n",
       "0  --9e1ONYQuAa-CB_Rrw7Tw  oFyOUOeGTRZhFPF9uTqrTQ      5\n",
       "1  --9e1ONYQuAa-CB_Rrw7Tw  aVOGlN9fZ-BXcbtj6dbf0g      5\n",
       "2  --9e1ONYQuAa-CB_Rrw7Tw  KC8H7qTZVPIEnanw9fG43g      5"
      ]
     },
     "execution_count": 9,
     "metadata": {},
     "output_type": "execute_result"
    }
   ],
   "source": [
    "recommender_df = df[['business_id', 'user_id', 'stars']]\n",
    "recommender_df.head(3)"
   ]
  },
  {
   "cell_type": "markdown",
   "metadata": {},
   "source": [
    "There are many users that haven't given many reviews, I will exclude these users from the item-item similarity recommender."
   ]
  },
  {
   "cell_type": "code",
   "execution_count": 10,
   "metadata": {},
   "outputs": [
    {
     "data": {
      "text/plain": [
       "user_id\n",
       "---1lKK3aKOuomHnwAkAow    1\n",
       "---udAKDsn0yQXmzbWQNSw    2\n",
       "--0sXNBv6IizZXuV-nl0Aw    1\n",
       "--2bpE5vyR-2hAP7sZZ4lA    1\n",
       "--2vR0DIsmQ6WfcSzKWigw    2\n",
       "Name: stars, dtype: int64"
      ]
     },
     "execution_count": 10,
     "metadata": {},
     "output_type": "execute_result"
    }
   ],
   "source": [
    "reviews_count_df = recommender_df.groupby('user_id')['stars'].count()\n",
    "reviews_count_df.head(5)"
   ]
  },
  {
   "cell_type": "code",
   "execution_count": 11,
   "metadata": {},
   "outputs": [
    {
     "name": "stdout",
     "output_type": "stream",
     "text": [
      "Max reviews: 389, Min reviews: 1\n",
      "Median reviews: 1.0, Mean reviews: 2.08\n",
      "25% reviews: 1,  75% reviews: 2\n",
      "Number of unique business: 4484\n"
     ]
    }
   ],
   "source": [
    "print('Max reviews: %s, Min reviews: %s' % (max(reviews_count_df), min(reviews_count_df)))\n",
    "print('Median reviews: %s, Mean reviews: %s' % (np.median(reviews_count_df), round(np.mean(reviews_count_df),2)))\n",
    "print('25%% reviews: %d,  75%% reviews: %d' % (np.percentile(reviews_count_df, 25), np.percentile(reviews_count_df, 75)))\n",
    "print('Number of unique business: %d' % (len(set(recommender_df['business_id']))))"
   ]
  },
  {
   "cell_type": "code",
   "execution_count": 12,
   "metadata": {},
   "outputs": [
    {
     "data": {
      "text/html": [
       "<div>\n",
       "<style scoped>\n",
       "    .dataframe tbody tr th:only-of-type {\n",
       "        vertical-align: middle;\n",
       "    }\n",
       "\n",
       "    .dataframe tbody tr th {\n",
       "        vertical-align: top;\n",
       "    }\n",
       "\n",
       "    .dataframe thead th {\n",
       "        text-align: right;\n",
       "    }\n",
       "</style>\n",
       "<table border=\"1\" class=\"dataframe\">\n",
       "  <thead>\n",
       "    <tr style=\"text-align: right;\">\n",
       "      <th></th>\n",
       "      <th>business_id</th>\n",
       "      <th>user_id</th>\n",
       "      <th>stars</th>\n",
       "    </tr>\n",
       "  </thead>\n",
       "  <tbody>\n",
       "    <tr>\n",
       "      <th>0</th>\n",
       "      <td>--9e1ONYQuAa-CB_Rrw7Tw</td>\n",
       "      <td>oFyOUOeGTRZhFPF9uTqrTQ</td>\n",
       "      <td>5</td>\n",
       "    </tr>\n",
       "    <tr>\n",
       "      <th>3</th>\n",
       "      <td>--9e1ONYQuAa-CB_Rrw7Tw</td>\n",
       "      <td>3RTesI_MAwct13LWm4rhLw</td>\n",
       "      <td>4</td>\n",
       "    </tr>\n",
       "    <tr>\n",
       "      <th>5</th>\n",
       "      <td>--9e1ONYQuAa-CB_Rrw7Tw</td>\n",
       "      <td>C6kw0Rny7jZAGjTj0MWA3Q</td>\n",
       "      <td>5</td>\n",
       "    </tr>\n",
       "    <tr>\n",
       "      <th>16</th>\n",
       "      <td>--9e1ONYQuAa-CB_Rrw7Tw</td>\n",
       "      <td>JaqcCU3nxReTW2cBLHounA</td>\n",
       "      <td>5</td>\n",
       "    </tr>\n",
       "    <tr>\n",
       "      <th>19</th>\n",
       "      <td>--9e1ONYQuAa-CB_Rrw7Tw</td>\n",
       "      <td>581NruH_Ns8_FH7jr9wLiQ</td>\n",
       "      <td>5</td>\n",
       "    </tr>\n",
       "  </tbody>\n",
       "</table>\n",
       "</div>"
      ],
      "text/plain": [
       "               business_id                 user_id  stars\n",
       "0   --9e1ONYQuAa-CB_Rrw7Tw  oFyOUOeGTRZhFPF9uTqrTQ      5\n",
       "3   --9e1ONYQuAa-CB_Rrw7Tw  3RTesI_MAwct13LWm4rhLw      4\n",
       "5   --9e1ONYQuAa-CB_Rrw7Tw  C6kw0Rny7jZAGjTj0MWA3Q      5\n",
       "16  --9e1ONYQuAa-CB_Rrw7Tw  JaqcCU3nxReTW2cBLHounA      5\n",
       "19  --9e1ONYQuAa-CB_Rrw7Tw  581NruH_Ns8_FH7jr9wLiQ      5"
      ]
     },
     "execution_count": 12,
     "metadata": {},
     "output_type": "execute_result"
    }
   ],
   "source": [
    "active_user = list(reviews_count_df[reviews_count_df >= 5].index)\n",
    "mask = [user in active_user for user in recommender_df['user_id']]\n",
    "active_user_df = recommender_df[mask]\n",
    "active_user_df.head(5)"
   ]
  },
  {
   "cell_type": "markdown",
   "metadata": {},
   "source": [
    "#### Create utility matrix from records"
   ]
  },
  {
   "cell_type": "code",
   "execution_count": 17,
   "metadata": {},
   "outputs": [
    {
     "data": {
      "text/plain": [
       "<12478x4185 sparse matrix of type '<class 'numpy.float64'>'\n",
       "\twith 0 stored elements in LInked List format>"
      ]
     },
     "execution_count": 17,
     "metadata": {},
     "output_type": "execute_result"
    }
   ],
   "source": [
    "from scipy import sparse\n",
    "highest_user_id = len(set(active_user_df['user_id']))\n",
    "highest_movie_id = len(set(active_user_df['business_id']))\n",
    "ratings_mat = sparse.lil_matrix((highest_user_id, highest_movie_id))\n",
    "ratings_mat"
   ]
  },
  {
   "cell_type": "code",
   "execution_count": 18,
   "metadata": {},
   "outputs": [
    {
     "data": {
      "text/plain": [
       "<12478x4185 sparse matrix of type '<class 'numpy.float64'>'\n",
       "\twith 126350 stored elements in LInked List format>"
      ]
     },
     "execution_count": 18,
     "metadata": {},
     "output_type": "execute_result"
    }
   ],
   "source": [
    "user_id = list(set(active_user_df['user_id']))\n",
    "business_id = list(set(active_user_df['business_id']))\n",
    "for _, row in active_user_df.iterrows():\n",
    "    ratings_mat[user_id.index(row.user_id), business_id.index(row.business_id)] = row.stars\n",
    "ratings_mat"
   ]
  },
  {
   "cell_type": "markdown",
   "metadata": {},
   "source": [
    "## Item - Item Collaborative Filter Recommender"
   ]
  },
  {
   "cell_type": "code",
   "execution_count": 19,
   "metadata": {},
   "outputs": [],
   "source": [
    "from sklearn.metrics.pairwise import cosine_similarity\n",
    "from time import time\n",
    "class ItemItemRecommender(object):\n",
    "\n",
    "    def __init__(self, neighborhood_size):\n",
    "        self.neighborhood_size = neighborhood_size\n",
    "\n",
    "    def fit(self, ratings_mat):\n",
    "        self.ratings_mat = ratings_mat\n",
    "        self.n_users = ratings_mat.shape[0]\n",
    "        self.n_items = ratings_mat.shape[1]\n",
    "        self.item_sim_mat = cosine_similarity(self.ratings_mat.T)\n",
    "        self._set_neighborhoods()\n",
    "\n",
    "    def _set_neighborhoods(self):\n",
    "        least_to_most_sim_indexes = np.argsort(self.item_sim_mat, 1)\n",
    "        self.neighborhoods = least_to_most_sim_indexes[:, -self.neighborhood_size:]\n",
    "\n",
    "    def pred_one_user(self, user_id, report_run_time=False):\n",
    "        start_time = time()\n",
    "        items_rated_by_this_user = self.ratings_mat[user_id].nonzero()[1]\n",
    "        # Just initializing so I have somewhere to put rating preds\n",
    "        out = np.zeros(self.n_items)\n",
    "        for item_to_rate in range(self.n_items):\n",
    "            relevant_items = np.intersect1d(self.neighborhoods[item_to_rate],\n",
    "                                            items_rated_by_this_user,\n",
    "                                            assume_unique=True)  # assume_unique speeds up intersection op\n",
    "            out[item_to_rate] = self.ratings_mat[user_id, relevant_items] * \\\n",
    "                self.item_sim_mat[item_to_rate, relevant_items] / \\\n",
    "                self.item_sim_mat[item_to_rate, relevant_items].sum()\n",
    "        if report_run_time:\n",
    "            print(\"Execution time: %f seconds\" % (time()-start_time))\n",
    "        cleaned_out = np.nan_to_num(out)\n",
    "        return cleaned_out\n",
    "\n",
    "    def pred_all_users(self, report_run_time=False):\n",
    "        start_time = time()\n",
    "        all_ratings = [\n",
    "            self.pred_one_user(user_id) for user_id in range(self.n_users)]\n",
    "        if report_run_time:\n",
    "            print(\"Execution time: %f seconds\" % (time()-start_time))\n",
    "        return np.array(all_ratings)\n",
    "\n",
    "    def top_n_recs(self, user_id, n):\n",
    "        pred_ratings = self.pred_one_user(user_id)\n",
    "        item_index_sorted_by_pred_rating = list(np.argsort(pred_ratings))\n",
    "        items_rated_by_this_user = self.ratings_mat[user_id].nonzero()[1]\n",
    "        unrated_items_by_pred_rating = [item for item in item_index_sorted_by_pred_rating\n",
    "                                        if item not in items_rated_by_this_user]\n",
    "        return unrated_items_by_pred_rating[-n:], items_rated_by_this_user"
   ]
  },
  {
   "cell_type": "code",
   "execution_count": 20,
   "metadata": {},
   "outputs": [],
   "source": [
    "my_rec_engine = ItemItemRecommender(neighborhood_size=80)\n",
    "my_rec_engine.fit(ratings_mat)"
   ]
  },
  {
   "cell_type": "markdown",
   "metadata": {},
   "source": [
    "Let me try the recommder system with a lucky user."
   ]
  },
  {
   "cell_type": "code",
   "execution_count": 21,
   "metadata": {},
   "outputs": [
    {
     "name": "stderr",
     "output_type": "stream",
     "text": [
      "C:\\Users\\ella1\\Anaconda3\\lib\\site-packages\\ipykernel_launcher.py:28: RuntimeWarning: invalid value encountered in true_divide\n"
     ]
    }
   ],
   "source": [
    "lucky_user = np.random.choice(active_user_df['user_id'], 1)[0]\n",
    "lucky_user_index = user_id.index(lucky_user)\n",
    "lucky_user_recommend, items_rated_by_this_user = my_rec_engine.top_n_recs(user_id=lucky_user_index, n = 10)"
   ]
  },
  {
   "cell_type": "code",
   "execution_count": 22,
   "metadata": {},
   "outputs": [
    {
     "name": "stdout",
     "output_type": "stream",
     "text": [
      "The top ten recommendation for user JADdo9NEeO5Az9aOYbyvZA are: \n",
      "\"Grand Lux Cafe\", \"Panevino Italian Grille\", \"Binion's Deli\", \"Canyon Ranch Grill\", \"Vic & Anthony's Steakhouse\", \"Zuma Las Vegas\", \"Jean Georges Steakhouse\", \"Blondies Sports Bar & Grill\", \"Jaburritos\", \"Avenue Cafe\"\n"
     ]
    }
   ],
   "source": [
    "print(\"The top ten recommendation for user %s are: \" % (lucky_user))\n",
    "print('%s' % (', '.join(list(set(df['name'][df['business_id'] == business_id[i]]))[0] \\\n",
    "                       for i in lucky_user_recommend)))"
   ]
  },
  {
   "cell_type": "code",
   "execution_count": 24,
   "metadata": {},
   "outputs": [],
   "source": [
    "from sklearn.feature_extraction.text import TfidfVectorizer"
   ]
  },
  {
   "cell_type": "code",
   "execution_count": 25,
   "metadata": {},
   "outputs": [
    {
     "name": "stdout",
     "output_type": "stream",
     "text": [
      "Categories from user rated restaurants: \n",
      "american,arts,asian,bars,beer,breakfast,brunch,burgers,cafe,casinos,chinese,clubs,dance,dim,entertainment,event,food,fusion,gastropubs,hong,hotels,italian,japanese,kong,lounges,new,nightlife,noodles,planning,restaurants,services,soup,southern,spirits,sports,steakhouses,style,sum,sushi,traditional,travel,wine\n"
     ]
    }
   ],
   "source": [
    "original_rated_restaurants = [list(set(df['name'][df['business_id'] == business_id[i]]))[0] for i in items_rated_by_this_user]\n",
    "mask = [name in original_rated_restaurants for name in df['name']]\n",
    "original_category = df['categories'][mask]\n",
    "vectorizer = TfidfVectorizer(analyzer = 'word', stop_words = 'english', \n",
    "                             lowercase = True\n",
    "                            )\n",
    "original_category_vec = vectorizer.fit_transform(original_category).toarray()\n",
    "original_word = vectorizer.get_feature_names()\n",
    "print('Categories from user rated restaurants: \\n%s' % (','.join(i for i in original_word)))"
   ]
  },
  {
   "cell_type": "code",
   "execution_count": 26,
   "metadata": {},
   "outputs": [
    {
     "name": "stdout",
     "output_type": "stream",
     "text": [
      "Categories from recommend restaurants: \n",
      "american,asian,barbeque,bars,breakfast,brunch,delis,desserts,dogs,food,fusion,hot,italian,japanese,mexican,new,nightlife,restaurants,salad,sandwiches,seafood,sports,stands,steakhouses,sushi,traditional,vegan\n"
     ]
    }
   ],
   "source": [
    "recommend_res = [list(set(df['name'][df['business_id'] == business_id[i]]))[0] \\\n",
    "                 for i in lucky_user_recommend]\n",
    "mask = [name in recommend_res for name in df['name']]\n",
    "recommend_category = df['categories'][mask]\n",
    "vectorizer = TfidfVectorizer(analyzer = 'word', stop_words = 'english', \n",
    "                             lowercase = True\n",
    "                            )\n",
    "recommend_category_vec = vectorizer.fit_transform(recommend_category).toarray()\n",
    "recommend_word = vectorizer.get_feature_names()\n",
    "print('Categories from recommend restaurants: \\n%s' % (','.join(i for i in recommend_word)))"
   ]
  },
  {
   "cell_type": "code",
   "execution_count": 27,
   "metadata": {},
   "outputs": [
    {
     "name": "stdout",
     "output_type": "stream",
     "text": [
      "Common labels are: \n",
      "american, asian, bars, breakfast, brunch, food, fusion, italian, japanese, new, nightlife, restaurants, sports, steakhouses, sushi, traditional\n"
     ]
    }
   ],
   "source": [
    "#Check the common labels\n",
    "print(\"Common labels are: \\n%s\" % (', '.join(word for word in recommend_word if word in original_word)))"
   ]
  },
  {
   "cell_type": "markdown",
   "metadata": {},
   "source": [
    "## Matrix Factorization recommender (NMF)"
   ]
  },
  {
   "cell_type": "code",
   "execution_count": 28,
   "metadata": {},
   "outputs": [],
   "source": [
    "from sklearn.decomposition import NMF\n",
    "class NMF_Recommender(object):\n",
    "\n",
    "    def __init__(self, n_components):\n",
    "        self.n_components = n_components\n",
    "\n",
    "    def fit(self, ratings_mat):\n",
    "        self.ratings_mat = ratings_mat\n",
    "        self.n_users = ratings_mat.shape[0]\n",
    "        self.n_items = ratings_mat.shape[1]\n",
    "        nmf = NMF(n_components = 200)\n",
    "        nmf.fit(ratings_mat)\n",
    "        self.W = nmf.transform(ratings_mat)\n",
    "        self.H = nmf.components_\n",
    "        self.error = nmf.reconstruction_err_\n",
    "        self.ratings_mat_fitted = self.W.dot(self.H)\n",
    "\n",
    "    def get_error(self):\n",
    "        return self.error\n",
    "        \n",
    "    def pred_one_user(self, user_id, report_run_time=False):\n",
    "        start_time = time()\n",
    "        cleaned_out = self.ratings_mat_fitted[user_id,:]\n",
    "        if report_run_time:\n",
    "            print(\"Execution time: %f seconds\" % (time()-start_time))\n",
    "        return cleaned_out\n",
    "\n",
    "    def pred_all_users(self, report_run_time=False):\n",
    "        start_time = time()\n",
    "        all_ratings = [\n",
    "            self.pred_one_user(user_id) for user_id in range(self.n_users)]\n",
    "        if report_run_time:\n",
    "            print(\"Execution time: %f seconds\" % (time()-start_time))\n",
    "        return np.array(all_ratings)\n",
    "\n",
    "    def top_n_recs(self, user_id, n):\n",
    "        pred_ratings = self.pred_one_user(user_id)\n",
    "        item_index_sorted_by_pred_rating = list(np.argsort(pred_ratings))\n",
    "        items_rated_by_this_user = self.ratings_mat[user_id].nonzero()[1]\n",
    "        unrated_items_by_pred_rating = [item for item in item_index_sorted_by_pred_rating\n",
    "                                        if item not in items_rated_by_this_user]\n",
    "        return unrated_items_by_pred_rating[-n:], items_rated_by_this_user"
   ]
  },
  {
   "cell_type": "code",
   "execution_count": 29,
   "metadata": {},
   "outputs": [
    {
     "name": "stdout",
     "output_type": "stream",
     "text": [
      "The top ten recommendation for user JADdo9NEeO5Az9aOYbyvZA are: \n",
      "\"Aureole\", \"Michael Mina Pub 1842\", \"Chef Marc's Trattoria\", \"Chengdu Taste\", \"STK Las Vegas\", \"Bazaar Meat by José Andrés\", \"SUSHISAMBA - Las Vegas\", \"Fiamma Italian Kitchen\", \"Wolfgang Puck Bar & Grill Las Vegas\", \"MGM Grand Hotel\"\n"
     ]
    }
   ],
   "source": [
    "# get recommendations for the same lucky user\n",
    "my_rec_engine = NMF_Recommender(n_components=200)\n",
    "my_rec_engine.fit(ratings_mat)\n",
    "lucky_user_recommend, items_rated_by_this_user = my_rec_engine.top_n_recs(user_id=lucky_user_index, n = 10)\n",
    "print(\"The top ten recommendation for user %s are: \" % (lucky_user))\n",
    "print('%s' % (', '.join(list(set(df['name'][df['business_id'] == business_id[i]]))[0] \\\n",
    "                       for i in lucky_user_recommend)))"
   ]
  },
  {
   "cell_type": "code",
   "execution_count": 30,
   "metadata": {},
   "outputs": [
    {
     "name": "stdout",
     "output_type": "stream",
     "text": [
      "The users original rated resturants are :\n",
      " \"Carnevino\",\"Foundation Room\",\"Public House\",\"MOzen Bistro\",\"Hong Kong Cafe\",\"Yardbird Southern Table & Bar\",\"Morimoto\"\n"
     ]
    }
   ],
   "source": [
    "print(\"The users original rated resturants are :\\n %s\" % (','.join(list(set(df['name'][df['business_id'] == business_id[i]]))[0] \\\n",
    "                       for i in items_rated_by_this_user)))"
   ]
  },
  {
   "cell_type": "code",
   "execution_count": 31,
   "metadata": {},
   "outputs": [
    {
     "name": "stdout",
     "output_type": "stream",
     "text": [
      "Categories from user rated restaurants: \n",
      "american,arts,asian,bars,beer,breakfast,brunch,burgers,cafe,casinos,chinese,clubs,dance,dim,entertainment,event,food,fusion,gastropubs,hong,hotels,italian,japanese,kong,lounges,new,nightlife,noodles,planning,restaurants,services,soup,southern,spirits,sports,steakhouses,style,sum,sushi,traditional,travel,wine\n"
     ]
    }
   ],
   "source": [
    "original_rated_restaurants = [list(set(df['name'][df['business_id'] == business_id[i]]))[0] for i in items_rated_by_this_user]\n",
    "mask = [name in original_rated_restaurants for name in df['name']]\n",
    "original_category = df['categories'][mask]\n",
    "vectorizer = TfidfVectorizer(analyzer = 'word', stop_words = 'english', \n",
    "                             lowercase = True\n",
    "                            )\n",
    "original_category_vec = vectorizer.fit_transform(original_category).toarray()\n",
    "original_word = vectorizer.get_feature_names()\n",
    "print('Categories from user rated restaurants: \\n%s' % (','.join(i for i in original_word)))"
   ]
  },
  {
   "cell_type": "code",
   "execution_count": 32,
   "metadata": {},
   "outputs": [
    {
     "name": "stdout",
     "output_type": "stream",
     "text": [
      "Categories from recommend restaurants: \n",
      "american,arts,asian,bars,breakfast,brunch,casinos,chinese,cocktail,dim,entertainment,event,fusion,gastropubs,hotels,irish,italian,new,nightlife,pizza,planning,plates,pubs,resorts,restaurants,salad,sandwiches,seafood,services,small,spanish,steakhouses,sum,szechuan,tapas,traditional,travel,wine\n"
     ]
    }
   ],
   "source": [
    "recommend_res = [list(set(df['name'][df['business_id'] == business_id[i]]))[0] \\\n",
    "                 for i in lucky_user_recommend]\n",
    "mask = [name in recommend_res for name in df['name']]\n",
    "recommend_category = df['categories'][mask]\n",
    "vectorizer = TfidfVectorizer(analyzer = 'word', stop_words = 'english', \n",
    "                             lowercase = True\n",
    "                            )\n",
    "recommend_category_vec = vectorizer.fit_transform(recommend_category).toarray()\n",
    "recommend_word = vectorizer.get_feature_names()\n",
    "print('Categories from recommend restaurants: \\n%s' % (','.join(i for i in recommend_word)))"
   ]
  },
  {
   "cell_type": "code",
   "execution_count": 33,
   "metadata": {},
   "outputs": [
    {
     "name": "stdout",
     "output_type": "stream",
     "text": [
      "Common labels are: \n",
      "american, arts, asian, bars, breakfast, brunch, casinos, chinese, dim, entertainment, event, fusion, gastropubs, hotels, italian, new, nightlife, planning, restaurants, services, steakhouses, sum, traditional, travel, wine\n"
     ]
    }
   ],
   "source": [
    "#Check the common labels\n",
    "print(\"Common labels are: \\n%s\" % (', '.join(word for word in recommend_word if word in original_word)))"
   ]
  },
  {
   "cell_type": "markdown",
   "metadata": {},
   "source": [
    "Based on user's previous rating, the NMF recommder shows better performance."
   ]
  },
  {
   "cell_type": "markdown",
   "metadata": {},
   "source": [
    "## Matrix Factorization recommender (SVD) with restaurants' labels."
   ]
  },
  {
   "cell_type": "markdown",
   "metadata": {},
   "source": [
    "Each business has its own labels. Suppose we have a table of business_id against category labels. Each element in the table represents the style score of resturants to labels. Additionally, we can build another table of user_id against category labels. Each element in the table stands for the preference/taste of clients to each label. By multipling two tables, we can get the utility table. The two sub-table can have negative number as preference can be divided into like or dislike."
   ]
  },
  {
   "cell_type": "code",
   "execution_count": 34,
   "metadata": {},
   "outputs": [
    {
     "name": "stdout",
     "output_type": "stream",
     "text": [
      "The total number of restaurant labels is 423\n"
     ]
    }
   ],
   "source": [
    "#get the number of labels \n",
    "mask = [business in business_id for business in df['business_id']]\n",
    "category = df['categories'][mask]\n",
    "from sklearn.feature_extraction.text import TfidfVectorizer\n",
    "vectorizer = TfidfVectorizer(analyzer = 'word', stop_words = 'english', \n",
    "                             lowercase = True\n",
    "                            )\n",
    "category_vec = vectorizer.fit_transform(category).toarray()\n",
    "words = vectorizer.get_feature_names()\n",
    "#This is the number of unique categories\n",
    "print('The total number of restaurant labels is %d' % (len(words))) "
   ]
  },
  {
   "cell_type": "code",
   "execution_count": 35,
   "metadata": {},
   "outputs": [],
   "source": [
    "from sklearn.decomposition import TruncatedSVD\n",
    "class SVD_Recommender(object):\n",
    "\n",
    "    def __init__(self):\n",
    "        self.n_components = 361 #the number of labels\n",
    "\n",
    "    def fit(self, ratings_mat):\n",
    "        self.ratings_mat = ratings_mat\n",
    "        self.n_users = ratings_mat.shape[0]\n",
    "        self.n_items = ratings_mat.shape[1]\n",
    "        svd = TruncatedSVD(n_components=self.n_components, n_iter=7, random_state=1)\n",
    "        svd.fit(ratings_mat)\n",
    "        self.V = svd.components_\n",
    "        self.U = svd.transform(ratings_mat)\n",
    "        self.ratings_mat_fitted = self.U.dot(self.V)\n",
    "\n",
    "    def get_error(self):\n",
    "        return ((self.ratings_mat_fitted - self.ratings_mat)**2).mean(axis=None)\n",
    "        \n",
    "    def pred_one_user(self, user_id, report_run_time=False):\n",
    "        start_time = time()\n",
    "        cleaned_out = self.ratings_mat_fitted[user_id,:]\n",
    "        if report_run_time:\n",
    "            print(\"Execution time: %f seconds\" % (time()-start_time))\n",
    "        return cleaned_out\n",
    "\n",
    "    def pred_all_users(self, report_run_time=False):\n",
    "        start_time = time()\n",
    "        all_ratings = [\n",
    "            self.pred_one_user(user_id) for user_id in range(self.n_users)]\n",
    "        if report_run_time:\n",
    "            print(\"Execution time: %f seconds\" % (time()-start_time))\n",
    "        return np.array(all_ratings)\n",
    "\n",
    "    def top_n_recs(self, user_id, n):\n",
    "        pred_ratings = self.pred_one_user(user_id)\n",
    "        item_index_sorted_by_pred_rating = list(np.argsort(pred_ratings))\n",
    "        items_rated_by_this_user = self.ratings_mat[user_id].nonzero()[1]\n",
    "        unrated_items_by_pred_rating = [item for item in item_index_sorted_by_pred_rating\n",
    "                                        if item not in items_rated_by_this_user]\n",
    "        return unrated_items_by_pred_rating[-n:], items_rated_by_this_user"
   ]
  },
  {
   "cell_type": "code",
   "execution_count": 36,
   "metadata": {},
   "outputs": [
    {
     "name": "stdout",
     "output_type": "stream",
     "text": [
      "The top ten recommendation for user JADdo9NEeO5Az9aOYbyvZA are: \n",
      "\"Charlie Palmer Steak\", \"Fiamma Italian Kitchen\", \"Joël  Robuchon\", \"Chengdu Taste\", \"Top of the World\", \"Delmonico Steakhouse\", \"Habaneros Taco Grill\", \"Table 10\", \"CUT by Wolfgang Puck\", \"Bazaar Meat by José Andrés\"\n"
     ]
    }
   ],
   "source": [
    "# get recommendations for the same lucky user\n",
    "my_rec_engine = SVD_Recommender()\n",
    "my_rec_engine.fit(ratings_mat)\n",
    "lucky_user_recommend, items_rated_by_this_user = my_rec_engine.top_n_recs(user_id=lucky_user_index, n = 10)\n",
    "print(\"The top ten recommendation for user %s are: \" % (lucky_user))\n",
    "print('%s' % (', '.join(list(set(df['name'][df['business_id'] == business_id[i]]))[0] \\\n",
    "                       for i in lucky_user_recommend)))"
   ]
  },
  {
   "cell_type": "markdown",
   "metadata": {},
   "source": [
    "Let me check whether the recommendation make sence. I can check through whether the category labels are consistent between original returants and recommend restaurants."
   ]
  },
  {
   "cell_type": "code",
   "execution_count": 37,
   "metadata": {},
   "outputs": [
    {
     "name": "stdout",
     "output_type": "stream",
     "text": [
      "Categories from user rated restaurants: \n",
      "american,arts,asian,bars,beer,breakfast,brunch,burgers,cafe,casinos,chinese,clubs,dance,dim,entertainment,event,food,fusion,gastropubs,hong,hotels,italian,japanese,kong,lounges,new,nightlife,noodles,planning,restaurants,services,soup,southern,spirits,sports,steakhouses,style,sum,sushi,traditional,travel,wine\n"
     ]
    }
   ],
   "source": [
    "original_rated_restaurants = [list(set(df['name'][df['business_id'] == business_id[i]]))[0] for i in items_rated_by_this_user]\n",
    "mask = [name in original_rated_restaurants for name in df['name']]\n",
    "original_category = df['categories'][mask]\n",
    "vectorizer = TfidfVectorizer(analyzer = 'word', stop_words = 'english', \n",
    "                             lowercase = True\n",
    "                            )\n",
    "original_category_vec = vectorizer.fit_transform(original_category).toarray()\n",
    "original_word = vectorizer.get_feature_names()\n",
    "print('Categories from user rated restaurants: \\n%s' % (','.join(i for i in original_word)))"
   ]
  },
  {
   "cell_type": "code",
   "execution_count": 38,
   "metadata": {},
   "outputs": [
    {
     "name": "stdout",
     "output_type": "stream",
     "text": [
      "Categories from recommend restaurants: \n",
      "american,bars,cajun,chinese,creole,diners,fast,food,french,italian,lounges,mexican,new,nightlife,plates,restaurants,seafood,small,spanish,steakhouses,szechuan,tacos,tapas,traditional,wine\n"
     ]
    }
   ],
   "source": [
    "recommend_res = [list(set(df['name'][df['business_id'] == business_id[i]]))[0] \\\n",
    "                 for i in lucky_user_recommend]\n",
    "mask = [name in recommend_res for name in df['name']]\n",
    "recommend_category = df['categories'][mask]\n",
    "vectorizer = TfidfVectorizer(analyzer = 'word', stop_words = 'english', \n",
    "                             lowercase = True\n",
    "                            )\n",
    "recommend_category_vec = vectorizer.fit_transform(recommend_category).toarray()\n",
    "recommend_word = vectorizer.get_feature_names()\n",
    "print('Categories from recommend restaurants: \\n%s' % (','.join(i for i in recommend_word)))"
   ]
  },
  {
   "cell_type": "code",
   "execution_count": 39,
   "metadata": {},
   "outputs": [
    {
     "name": "stdout",
     "output_type": "stream",
     "text": [
      "Common labels are: \n",
      "american, bars, chinese, food, italian, lounges, new, nightlife, restaurants, steakhouses, traditional, wine\n"
     ]
    }
   ],
   "source": [
    "#Check the common labels\n",
    "print(\"Common labels are: \\n%s\" % (', '.join(word for word in recommend_word if word in original_word)))"
   ]
  },
  {
   "cell_type": "code",
   "execution_count": null,
   "metadata": {},
   "outputs": [],
   "source": []
  }
 ],
 "metadata": {
  "anaconda-cloud": {},
  "kernelspec": {
   "display_name": "Python 3",
   "language": "python",
   "name": "python3"
  },
  "language_info": {
   "codemirror_mode": {
    "name": "ipython",
    "version": 3
   },
   "file_extension": ".py",
   "mimetype": "text/x-python",
   "name": "python",
   "nbconvert_exporter": "python",
   "pygments_lexer": "ipython3",
   "version": "3.6.4"
  }
 },
 "nbformat": 4,
 "nbformat_minor": 1
}
