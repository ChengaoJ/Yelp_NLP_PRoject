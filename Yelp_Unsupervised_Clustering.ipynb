{
 "cells": [
  {
   "cell_type": "markdown",
   "metadata": {},
   "source": [
    "# Yelp Data Challenge - Clustering Analysis\n",
    "\n",
    "- From Setiment analysis, I come to the conclusion that rating score is unreasonable in 4-5 stars cases and 1-2 stars cases. I suggest to replace 1-5 rating system with like/dislike or below_average/average/above_average systems. Here I want to determine which one is better through clustering analysis.\n",
    "- The clutsering method is K-means. It turns out that three clusters (below_average/average/above_average) has better performance than two clusters (like/dislike).\n"
   ]
  },
  {
   "cell_type": "code",
   "execution_count": 1,
   "metadata": {},
   "outputs": [],
   "source": [
    "import pandas as pd\n",
    "import numpy as np\n",
    "import matplotlib.pyplot as plt\n",
    "% matplotlib inline\n",
    "plt.style.use(\"ggplot\")"
   ]
  },
  {
   "cell_type": "code",
   "execution_count": 2,
   "metadata": {},
   "outputs": [
    {
     "data": {
      "text/html": [
       "<div>\n",
       "<style scoped>\n",
       "    .dataframe tbody tr th:only-of-type {\n",
       "        vertical-align: middle;\n",
       "    }\n",
       "\n",
       "    .dataframe tbody tr th {\n",
       "        vertical-align: top;\n",
       "    }\n",
       "\n",
       "    .dataframe thead th {\n",
       "        text-align: right;\n",
       "    }\n",
       "</style>\n",
       "<table border=\"1\" class=\"dataframe\">\n",
       "  <thead>\n",
       "    <tr style=\"text-align: right;\">\n",
       "      <th></th>\n",
       "      <th>business_id</th>\n",
       "      <th>name</th>\n",
       "      <th>categories</th>\n",
       "      <th>avg_stars</th>\n",
       "      <th>review_id</th>\n",
       "      <th>user_id</th>\n",
       "      <th>stars</th>\n",
       "      <th>date</th>\n",
       "      <th>text</th>\n",
       "      <th>useful</th>\n",
       "      <th>funny</th>\n",
       "      <th>cool</th>\n",
       "    </tr>\n",
       "  </thead>\n",
       "  <tbody>\n",
       "    <tr>\n",
       "      <th>0</th>\n",
       "      <td>--9e1ONYQuAa-CB_Rrw7Tw</td>\n",
       "      <td>\"Delmonico Steakhouse\"</td>\n",
       "      <td>Cajun/Creole;Steakhouses;Restaurants</td>\n",
       "      <td>4.0</td>\n",
       "      <td>6SgvNWJltnZhW7duJgZ42w</td>\n",
       "      <td>oFyOUOeGTRZhFPF9uTqrTQ</td>\n",
       "      <td>5</td>\n",
       "      <td>2016-03-31</td>\n",
       "      <td>This is mine and my fiancé's favorite steakhou...</td>\n",
       "      <td>0</td>\n",
       "      <td>0</td>\n",
       "      <td>0</td>\n",
       "    </tr>\n",
       "    <tr>\n",
       "      <th>1</th>\n",
       "      <td>--9e1ONYQuAa-CB_Rrw7Tw</td>\n",
       "      <td>\"Delmonico Steakhouse\"</td>\n",
       "      <td>Cajun/Creole;Steakhouses;Restaurants</td>\n",
       "      <td>4.0</td>\n",
       "      <td>UxFpgng8dPMWOj99653k5Q</td>\n",
       "      <td>aVOGlN9fZ-BXcbtj6dbf0g</td>\n",
       "      <td>5</td>\n",
       "      <td>2016-02-10</td>\n",
       "      <td>Truly Fantastic!  Best Steak ever. Service was...</td>\n",
       "      <td>0</td>\n",
       "      <td>0</td>\n",
       "      <td>0</td>\n",
       "    </tr>\n",
       "  </tbody>\n",
       "</table>\n",
       "</div>"
      ],
      "text/plain": [
       "              business_id                    name  \\\n",
       "0  --9e1ONYQuAa-CB_Rrw7Tw  \"Delmonico Steakhouse\"   \n",
       "1  --9e1ONYQuAa-CB_Rrw7Tw  \"Delmonico Steakhouse\"   \n",
       "\n",
       "                             categories  avg_stars               review_id  \\\n",
       "0  Cajun/Creole;Steakhouses;Restaurants        4.0  6SgvNWJltnZhW7duJgZ42w   \n",
       "1  Cajun/Creole;Steakhouses;Restaurants        4.0  UxFpgng8dPMWOj99653k5Q   \n",
       "\n",
       "                  user_id  stars        date  \\\n",
       "0  oFyOUOeGTRZhFPF9uTqrTQ      5  2016-03-31   \n",
       "1  aVOGlN9fZ-BXcbtj6dbf0g      5  2016-02-10   \n",
       "\n",
       "                                                text  useful  funny  cool  \n",
       "0  This is mine and my fiancé's favorite steakhou...       0      0     0  \n",
       "1  Truly Fantastic!  Best Steak ever. Service was...       0      0     0  "
      ]
     },
     "execution_count": 2,
     "metadata": {},
     "output_type": "execute_result"
    }
   ],
   "source": [
    "df = pd.read_csv('../last_2_years_restaurant_reviews.csv')\n",
    "df.head(2)"
   ]
  },
  {
   "cell_type": "markdown",
   "metadata": {},
   "source": [
    "# Cluster the review text data for all the restaurants"
   ]
  },
  {
   "cell_type": "markdown",
   "metadata": {},
   "source": [
    "#### Define my feature variables - the text of the review (I decided to only run on a part of the data since I got memory error many times.)"
   ]
  },
  {
   "cell_type": "code",
   "execution_count": 6,
   "metadata": {},
   "outputs": [],
   "source": [
    "documents = df['text'][::20]"
   ]
  },
  {
   "cell_type": "code",
   "execution_count": 7,
   "metadata": {},
   "outputs": [],
   "source": [
    "from sklearn.model_selection import train_test_split\n",
    "# The clsutering algorithms is slow so I will take samples to find optima number of clusters\n",
    "documents_train, documents_test= train_test_split(documents, test_size=0.3)"
   ]
  },
  {
   "cell_type": "code",
   "execution_count": 8,
   "metadata": {},
   "outputs": [
    {
     "data": {
      "text/plain": [
       "(12196, 5227)"
      ]
     },
     "execution_count": 8,
     "metadata": {},
     "output_type": "execute_result"
    }
   ],
   "source": [
    "len(documents_train), len(documents_test)"
   ]
  },
  {
   "cell_type": "markdown",
   "metadata": {},
   "source": [
    "#### representation of the documents"
   ]
  },
  {
   "cell_type": "code",
   "execution_count": 9,
   "metadata": {},
   "outputs": [],
   "source": [
    "from sklearn.feature_extraction.text import TfidfVectorizer\n",
    "# Create TfidfVectorizer\n",
    "vectorizer = TfidfVectorizer(analyzer = 'word', stop_words = 'english', \n",
    "                             lowercase = True, max_features = 5000\n",
    "                            )\n",
    "# Train the model with my training data\n",
    "documents_train_vec = vectorizer.fit_transform(documents_train).toarray()\n",
    "# Get the vocab of my tfidf\n",
    "words = vectorizer.get_feature_names()\n",
    "# Use the trained model to transform all the reviews\n",
    "documents_vec = vectorizer.transform(documents).toarray()"
   ]
  },
  {
   "cell_type": "markdown",
   "metadata": {},
   "source": [
    "## KMeans "
   ]
  },
  {
   "cell_type": "markdown",
   "metadata": {},
   "source": [
    "#### K = 2 "
   ]
  },
  {
   "cell_type": "code",
   "execution_count": 10,
   "metadata": {},
   "outputs": [
    {
     "data": {
      "text/plain": [
       "KMeans(algorithm='auto', copy_x=True, init='k-means++', max_iter=300,\n",
       "    n_clusters=2, n_init=10, n_jobs=1, precompute_distances='auto',\n",
       "    random_state=None, tol=0.0001, verbose=0)"
      ]
     },
     "execution_count": 10,
     "metadata": {},
     "output_type": "execute_result"
    }
   ],
   "source": [
    "from sklearn.cluster import KMeans\n",
    "km_clf = KMeans(verbose = 0,n_clusters = 2)\n",
    "km_clf.fit(documents_train_vec)"
   ]
  },
  {
   "cell_type": "markdown",
   "metadata": {},
   "source": [
    "#### Make predictions on all data"
   ]
  },
  {
   "cell_type": "code",
   "execution_count": 11,
   "metadata": {},
   "outputs": [],
   "source": [
    "cluster = km_clf.predict(documents_vec)"
   ]
  },
  {
   "cell_type": "markdown",
   "metadata": {},
   "source": [
    "####  Inspect the centroids\n",
    "To find out what \"topics\" Kmeans has discovered I must inspect the centroids. Print out the centroids of the Kmeans clustering.\n",
    "These centroids are simply a bunch of vectors.  To make any sense of them I need to map these vectors back into 'word space'.  Think of each feature/dimension of the centroid vector as representing the \"average\" review or the average occurances of words for that cluster."
   ]
  },
  {
   "cell_type": "code",
   "execution_count": 12,
   "metadata": {},
   "outputs": [
    {
     "data": {
      "text/plain": [
       "array([[ 4.70370891e-04, -1.30646362e-17,  4.16172982e-03, ...,\n",
       "         1.51689537e-04,  5.14538600e-04, -8.80914265e-18],\n",
       "       [ 2.56770575e-03,  3.27333436e-04,  7.78323301e-03, ...,\n",
       "         1.70504095e-04,  4.12182372e-04,  2.68677805e-04]])"
      ]
     },
     "execution_count": 12,
     "metadata": {},
     "output_type": "execute_result"
    }
   ],
   "source": [
    "km_clf.cluster_centers_"
   ]
  },
  {
   "cell_type": "markdown",
   "metadata": {},
   "source": [
    "####  Find the top 10 features for each cluster."
   ]
  },
  {
   "cell_type": "code",
   "execution_count": 15,
   "metadata": {},
   "outputs": [
    {
     "name": "stdout",
     "output_type": "stream",
     "text": [
      "0: great, food, service, place, amazing, good, love, staff, best, friendly\n",
      "1: good, food, place, just, like, time, ordered, chicken, service, order\n"
     ]
    }
   ],
   "source": [
    "cluster_top_features = list()\n",
    "for i in range(km_clf.n_clusters):\n",
    "    cluster_top_features.append(np.argsort(km_clf.cluster_centers_[i])[::-1][:10])\n",
    "for num, centroid in enumerate(cluster_top_features):\n",
    "    print ('%d: %s' % (num, \", \".join(words[i] for i in centroid)))"
   ]
  },
  {
   "cell_type": "markdown",
   "metadata": {},
   "source": [
    "It seems that two clusters are both for positive reviews. Print out the rating and review of a random sample of the reviews assigned to each cluster to get a sense of the cluster."
   ]
  },
  {
   "cell_type": "code",
   "execution_count": 16,
   "metadata": {},
   "outputs": [
    {
     "name": "stdout",
     "output_type": "stream",
     "text": [
      "The cluster is 1.\n",
      "The star is: 3 stars.\n",
      "The review is:\n",
      "Sung to the tune of Eye of The Tiger by Survivor:\r\n",
      "\r\n",
      "Feast Buffet, you hooked me in\r\n",
      "With your $10 special\r\n",
      "Stood forever for an awesome feast\r\n",
      "Just a girl with a will to digest\r\n",
      "\r\n",
      "So many foods I just couldn't wait\r\n",
      "Everything looked so so yummy\r\n",
      "Why can't the line move any faster?\r\n",
      "You must wait just to get to the food\r\n",
      "\r\n",
      "It's the anticipation, its the need for some grinds\r\n",
      "and I need to eat soon 'coz I'm hungry\r\n",
      "I get up to the buffet and I start piling stuff\r\n",
      "And I'm sucking down the shrimp like there's no tomorrow\r\n",
      "\r\n",
      "Hand to mouth it's all a blur\r\n",
      "Who cares if the food is real salty\r\n",
      "I gotta eat and eat all I can\r\n",
      "Just a girl who is really pake*\r\n",
      "\r\n",
      "It's the Feast Buffet and it gave me the runs\r\n",
      "I was running to the crapper in the morning\r\n",
      "That's the last time I'll eat there and I pray I'm alright\r\n",
      "And I swear I will never go there, never ever!\r\n",
      "\r\n",
      "\r\n",
      "(*Pake pronounced pah-keh- Local Hawaiian pidgin for a penny-pinching cheap Chinese person, which I am).\n",
      "\n",
      "The cluster is 2.\n",
      "The star is: 5 stars.\n",
      "The review is:\n",
      "Solid. Forget the big name restaurants. Get by this little gem. I have said it before. The best places do what they do and do it well. No exception here. Cheese steak sandwiches were great. I have had several from Philly and these sandwiches hang. I also tried the turkey hogie. Best sandwich I have had in a while. Walk up order move to the right and pay. Some have commented on knowing what to do but we didn't have any problems. I don't hand out 5 stars. They have to be earned. Pops earned all 5..\n",
      "\n"
     ]
    }
   ],
   "source": [
    "for i in range(km_clf.n_clusters):\n",
    "    sub_cluster = np.arange(0, cluster.shape[0])[cluster == i]\n",
    "    sample = np.random.choice(sub_cluster, 1)\n",
    "    print(\"The cluster is %d.\" % (i+1))\n",
    "    print(\"The star is: %s stars.\" % df['stars'].iloc[sample[0]])\n",
    "    print(\"The review is:\\n%s.\\n\" % df['text'].iloc[sample[0]])"
   ]
  },
  {
   "cell_type": "code",
   "execution_count": null,
   "metadata": {},
   "outputs": [],
   "source": []
  },
  {
   "cell_type": "markdown",
   "metadata": {},
   "source": [
    "#### Try different k = 3"
   ]
  },
  {
   "cell_type": "code",
   "execution_count": 17,
   "metadata": {},
   "outputs": [
    {
     "data": {
      "text/plain": [
       "KMeans(algorithm='auto', copy_x=True, init='k-means++', max_iter=300,\n",
       "    n_clusters=3, n_init=10, n_jobs=1, precompute_distances='auto',\n",
       "    random_state=None, tol=0.0001, verbose=0)"
      ]
     },
     "execution_count": 17,
     "metadata": {},
     "output_type": "execute_result"
    }
   ],
   "source": [
    "# To be implemented\n",
    "km_3_clusters = KMeans(verbose = 0, n_clusters = 3)\n",
    "km_3_clusters.fit(documents_train_vec)"
   ]
  },
  {
   "cell_type": "code",
   "execution_count": 18,
   "metadata": {},
   "outputs": [
    {
     "name": "stdout",
     "output_type": "stream",
     "text": [
      "1: good,place,food,chicken,best,delicious,vegas,like,really,service\n",
      "2: food,order,just,time,service,like,minutes,didn,place,got\n",
      "3: great,food,service,place,amazing,good,awesome,love,staff,friendly\n"
     ]
    }
   ],
   "source": [
    "cluster_top_features = list()\n",
    "for i in range(km_3_clusters.n_clusters):\n",
    "    cluster_top_features.append(np.argsort(km_3_clusters.cluster_centers_[i])[::-1][:10])\n",
    "for num, centroid in enumerate(cluster_top_features):\n",
    "    print ('%d: %s' % (num+1, \",\".join(words[i] for i in centroid)))"
   ]
  },
  {
   "cell_type": "markdown",
   "metadata": {},
   "source": [
    "It seems that three clusters can get the positive, negative and in-between types."
   ]
  },
  {
   "cell_type": "code",
   "execution_count": 19,
   "metadata": {},
   "outputs": [],
   "source": [
    "three_cluster_pred = km_3_clusters.predict(documents_vec)"
   ]
  },
  {
   "cell_type": "markdown",
   "metadata": {},
   "source": [
    "Print out the rating and review of a random sample of the reviews assigned to each cluster to get a sense of the cluster."
   ]
  },
  {
   "cell_type": "code",
   "execution_count": 20,
   "metadata": {},
   "outputs": [
    {
     "name": "stdout",
     "output_type": "stream",
     "text": [
      "The cluster is 1.\n",
      "The star is: 3 stars.\n",
      "The review is:\n",
      "I stopped by here at very late night Saturday.. this place opens till 6am.  The price of the late night food was pretty fair and the food was good as well. \r\n",
      "\r\n",
      "You can't expect a fancy interior nor service here but it you are looking for some authentic Cantonese food in a late night with fair price. Then it's a good place to go..\n",
      "\n",
      "The cluster is 2.\n",
      "The star is: 2 stars.\n",
      "The review is:\n",
      "Food isn't that special but service was good. We were a bit lost and I have to commend the guy who answered the phone (didn't get his name) but he gave us very detailed directions on how to reach the spot. Unfortunately, that was the highlight for me and my company. Wouldn't go back to this place but you can try it once..\n",
      "\n",
      "The cluster is 3.\n",
      "The star is: 5 stars.\n",
      "The review is:\n",
      "Just starting off with saying, this place is A MUST GO TO!!! Every single item here is so purely unique and delicious. Not to mention, how incredibly welcoming the owners are! They have exceptional service and are so sweet. The paninis and smoothies we had were amazing. Really nice for a healthy, but delicious treat. I can't imagine anyone not enjoying the entire experience when come here. Do yourself a favor and stop by!!.\n",
      "\n"
     ]
    }
   ],
   "source": [
    "for i in range(km_3_clusters.n_clusters):\n",
    "    sub_cluster = np.arange(0, three_cluster_pred.shape[0])[three_cluster_pred == i]\n",
    "    sample = np.random.choice(sub_cluster, 1)\n",
    "    print(\"The cluster is %d.\" % (i+1))\n",
    "    print(\"The star is: %s stars.\" % df['stars'].iloc[sample[0]])\n",
    "    print(\"The review is:\\n%s.\\n\" % df['text'].iloc[sample[0]])"
   ]
  },
  {
   "cell_type": "markdown",
   "metadata": {},
   "source": [
    "At least the three examples have different rating, now let's see what happends when k - 5"
   ]
  },
  {
   "cell_type": "markdown",
   "metadata": {},
   "source": [
    "#### Try different k = 5"
   ]
  },
  {
   "cell_type": "code",
   "execution_count": 21,
   "metadata": {},
   "outputs": [
    {
     "data": {
      "text/plain": [
       "KMeans(algorithm='auto', copy_x=True, init='k-means++', max_iter=300,\n",
       "    n_clusters=5, n_init=10, n_jobs=1, precompute_distances='auto',\n",
       "    random_state=None, tol=0.0001, verbose=0)"
      ]
     },
     "execution_count": 21,
     "metadata": {},
     "output_type": "execute_result"
    }
   ],
   "source": [
    "km_5_clusters = KMeans(verbose = 0, n_clusters = 5)\n",
    "km_5_clusters.fit(documents_train_vec)"
   ]
  },
  {
   "cell_type": "code",
   "execution_count": 22,
   "metadata": {},
   "outputs": [
    {
     "name": "stdout",
     "output_type": "stream",
     "text": [
      "1: food,order,time,just,service,minutes,got,didn,ordered,burger\n",
      "2: great,food,service,place,good,amazing,awesome,love,time,staff\n",
      "3: pizza,good,crust,place,great,slice,cheese,best,like,time\n",
      "4: food,good,place,service,vegas,best,delicious,amazing,love,time\n",
      "5: chicken,good,fried,rice,food,like,place,ordered,thai,really\n"
     ]
    }
   ],
   "source": [
    "cluster_top_features = list()\n",
    "for i in range(km_5_clusters.n_clusters):\n",
    "    cluster_top_features.append(np.argsort(km_5_clusters.cluster_centers_[i])[::-1][:10])\n",
    "for num, centroid in enumerate(cluster_top_features):\n",
    "    print ('%d: %s' % (num+1, \",\".join(words[i] for i in centroid)))"
   ]
  },
  {
   "cell_type": "code",
   "execution_count": 23,
   "metadata": {},
   "outputs": [],
   "source": [
    "five_cluster_pred = km_5_clusters.predict(documents_vec)"
   ]
  },
  {
   "cell_type": "code",
   "execution_count": 24,
   "metadata": {},
   "outputs": [
    {
     "name": "stdout",
     "output_type": "stream",
     "text": [
      "The cluster is 1.\n",
      "The star is: 5 stars.\n",
      "The review is:\n",
      "A friend of mine comes here weekly for karaoke. \r\n",
      "\r\n",
      "I, sadly, usually have to work super early the next day, so I hadn't been able to come out...until last Monday night.  I had some vacation days in, so on Monday night, about 9:00pm, we headed over to Aces and Ales.\r\n",
      "\r\n",
      "I'd actually been to this location about 5 years ago, and enjoyed the food.  \r\n",
      "\r\n",
      "This time, we didn't eat, but we drank...oh did we drink.  \r\n",
      "\r\n",
      "Their beer selection isn't as vast as the Tenaya location, but they still have GREAT beers at great prices.  \r\n",
      "\r\n",
      "My selections for the evening: \r\n",
      "Crafthaus (my FAVORITE local brewery) Centerpiece Sour:  AMAZING.  I'm new to the sour beer side of things, and I just loved this.  \r\n",
      "Delirium Tremens:  My second favorite beer of all time, I had two of these.  This beer is SO much better on draught, rather than out of the bottle, I will definitely come back here the next time I want one, instead of buying a bottle at Lee's. \r\n",
      "\r\n",
      "I also tasted a handful of other beers that my friends ordered, including 2 scotch ales that were delightful, and a gingerbread porter? (I was drinking, so I don't remember if it was a porter or not)  They were all tasty. \r\n",
      "\r\n",
      "Shall I talk about karaoke?  \r\n",
      "Everyone who reads my reviews knows I'm a karaoke junkie and snob.  \r\n",
      "As a former KJ myself, I'm really picky about my sound, and queue management.  \r\n",
      "\r\n",
      "Kool Katz Karaoke did a phenomenal job.  Their sound was great!  Their selection isn't as big as some other companies, but they are willing to try to find songs for you if you write them down.   And their books are kept up to date, which is a HUGE undertaking.  Mad props!\r\n",
      "\r\n",
      "The KJs all sang too, which is a pet peeve of mine, but there wasn't a HUGE crowd of singers that night, so it didn't bother me much.  \r\n",
      "\r\n",
      "The regulars who go there to sing are all AMAZING, but don't fret if you're not the best singer.  They were all supportive and encouraging!  \r\n",
      "\r\n",
      "I will most definitely come back to the bar whenever I want a good beer, and you can be sure if I have a Tuesday morning off work, I will be heading here for karaoke..\n",
      "\n",
      "The cluster is 2.\n",
      "The star is: 4 stars.\n",
      "The review is:\n",
      "This place feels really authentic. Not big at all but that's not a problem. I came in and got 5 pupusas to go. They were actually pretty good, maybe a little over stuffed on some but for the most part good. The only thing is that I didn't know which was which when I got my order. (As in it wasn't labeled) not a huge deal but I just wanted to be able to tell which one was the rice mesa pupusa. Overall, just eating 2 got me stuffed. They're not bad reheated but like anything else, they're better when fresh.\n",
      "\n",
      "The cluster is 3.\n",
      "The star is: 2 stars.\n",
      "The review is:\n",
      "Real dirty place whit a lot of homeless people hanging out. Other then that food is average..\n",
      "\n",
      "The cluster is 4.\n",
      "The star is: 5 stars.\n",
      "The review is:\n",
      "First of all, the location is very clean inside. A pretty small venue, seats 12 people but that's fine! Good took such a short amount of time to be made, and I brought my family of 10 in here. I ordered the bangsilog and hot dang, it was fried to perfection. Achara (pickled papaya), cucumber slices and tomato slices were served with a side of garlic rice. If you're missing home, just grab your wallet and head over here! They also have kaldareta na kambing guys!.\n",
      "\n",
      "The cluster is 5.\n",
      "The star is: 5 stars.\n",
      "The review is:\n",
      "Had to stop by L and L!! I'll be honest I'm not a fan of L and L in Hawaii. But wow! The one in henderson has mean garlic chicken! The ride was perfect, the Mac salad brought back memories of home and the garlic chicken was flavored perfectly. It wasn't too garlicy or sweet! And you know I had to get side French fries!.\n",
      "\n"
     ]
    }
   ],
   "source": [
    "for i in range(km_5_clusters.n_clusters):\n",
    "    sub_cluster = np.arange(0, five_cluster_pred.shape[0])[five_cluster_pred == i]\n",
    "    sample = np.random.choice(sub_cluster, 1)\n",
    "    print(\"The cluster is %d.\" % (i+1))\n",
    "    print(\"The star is: %s stars.\" % df['stars'].iloc[sample[0]])\n",
    "    print(\"The review is:\\n%s.\\n\" % df['text'].iloc[sample[0]])"
   ]
  },
  {
   "cell_type": "markdown",
   "metadata": {},
   "source": [
    "Seems like its cluster not only the star but also the food type. "
   ]
  },
  {
   "cell_type": "code",
   "execution_count": null,
   "metadata": {},
   "outputs": [],
   "source": []
  }
 ],
 "metadata": {
  "anaconda-cloud": {},
  "kernelspec": {
   "display_name": "Python 3",
   "language": "python",
   "name": "python3"
  },
  "language_info": {
   "codemirror_mode": {
    "name": "ipython",
    "version": 3
   },
   "file_extension": ".py",
   "mimetype": "text/x-python",
   "name": "python",
   "nbconvert_exporter": "python",
   "pygments_lexer": "ipython3",
   "version": "3.6.4"
  }
 },
 "nbformat": 4,
 "nbformat_minor": 1
}
